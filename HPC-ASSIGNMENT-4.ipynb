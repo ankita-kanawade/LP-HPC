{
 "cells": [
  {
   "cell_type": "code",
   "execution_count": 1,
   "id": "ca8c39a5",
   "metadata": {},
   "outputs": [
    {
     "name": "stderr",
     "output_type": "stream",
     "text": [
      "C:\\Users\\Lenovo\\anaconda3\\lib\\site-packages\\scipy\\__init__.py:146: UserWarning: A NumPy version >=1.16.5 and <1.23.0 is required for this version of SciPy (detected version 1.26.4\n",
      "  warnings.warn(f\"A NumPy version >={np_minversion} and <{np_maxversion}\"\n"
     ]
    }
   ],
   "source": [
    "import tensorflow as tf "
   ]
  },
  {
   "cell_type": "code",
   "execution_count": 2,
   "id": "476be331",
   "metadata": {},
   "outputs": [
    {
     "name": "stderr",
     "output_type": "stream",
     "text": [
      "C:\\Users\\Lenovo\\anaconda3\\lib\\site-packages\\keras\\src\\layers\\convolutional\\base_conv.py:99: UserWarning: Do not pass an `input_shape`/`input_dim` argument to a layer. When using Sequential models, prefer using an `Input(shape)` object as the first layer in the model instead.\n",
      "  super().__init__(\n"
     ]
    }
   ],
   "source": [
    "#Model Definition:\n",
    "model = tf.keras.models.Sequential([\n",
    "    tf.keras.layers.Conv2D(32, (3,3), activation='relu', input_shape=(28, 28, 1)),\n",
    "    tf.keras.layers.MaxPooling2D((2, 2)),\n",
    "    tf.keras.layers.Flatten(),\n",
    "    tf.keras.layers.Dense(10, activation='softmax')\n",
    "])\n"
   ]
  },
  {
   "cell_type": "code",
   "execution_count": 3,
   "id": "7809b989",
   "metadata": {},
   "outputs": [],
   "source": [
    "#Data Loading and Preprocessing:\n",
    "\n",
    "mnist = tf.keras.datasets.mnist\n",
    "(x_train, y_train), (x_test, y_test) = mnist.load_data()\n",
    "x_train, x_test = x_train / 255.0, x_test / 255.0"
   ]
  },
  {
   "cell_type": "code",
   "execution_count": 4,
   "id": "44a3d420",
   "metadata": {},
   "outputs": [
    {
     "name": "stdout",
     "output_type": "stream",
     "text": [
      "{'define_macros': 'MSMPI_VER=0xa01', 'include_dirs': 'C:\\\\Program Files (x86)\\\\Microsoft SDKs\\\\MPI\\\\Include', 'libraries': 'msmpi', 'library_dirs': 'C:\\\\Program Files (x86)\\\\Microsoft SDKs\\\\MPI\\\\Lib\\\\x64'}\n"
     ]
    }
   ],
   "source": [
    "import mpi4py\n",
    "print(mpi4py.get_config())"
   ]
  },
  {
   "cell_type": "code",
   "execution_count": 5,
   "id": "1429794e",
   "metadata": {},
   "outputs": [],
   "source": [
    "#MPI Initialization:\n",
    "\n",
    "from mpi4py import MPI\n",
    "comm = MPI.COMM_WORLD\n",
    "rank = comm.Get_rank()\n",
    "size = comm.Get_size()"
   ]
  },
  {
   "cell_type": "code",
   "execution_count": 6,
   "id": "9ec8cc6b",
   "metadata": {},
   "outputs": [],
   "source": [
    "#Training Function:\n",
    "\n",
    "def train(model, x_train, y_train, rank, size):\n",
    "    n = len(x_train)\n",
    "    chunk_size = n // size\n",
    "    start = rank * chunk_size\n",
    "    end = (rank + 1) * chunk_size if rank != size - 1 else n\n",
    "    \n",
    "    x_train_chunk = x_train[start:end]\n",
    "    y_train_chunk = y_train[start:end]\n",
    "    \n",
    "    model.compile(optimizer='adam', loss='sparse_categorical_crossentropy', metrics=['accuracy'])\n",
    "    model.fit(x_train_chunk, y_train_chunk, epochs=1, batch_size=32)\n",
    "    \n",
    "    train_loss, train_acc = model.evaluate(x_train_chunk, y_train_chunk, verbose=2)\n",
    "    train_acc = comm.allreduce(train_acc, op=MPI.SUM)\n",
    "    \n",
    "    return train_acc / size"
   ]
  },
  {
   "cell_type": "code",
   "execution_count": 7,
   "id": "483f2f4d",
   "metadata": {},
   "outputs": [
    {
     "name": "stdout",
     "output_type": "stream",
     "text": [
      "\u001b[1m1875/1875\u001b[0m \u001b[32m━━━━━━━━━━━━━━━━━━━━\u001b[0m\u001b[37m\u001b[0m \u001b[1m21s\u001b[0m 9ms/step - accuracy: 0.8766 - loss: 0.4167\n",
      "1875/1875 - 8s - 4ms/step - accuracy: 0.9717 - loss: 0.1025\n",
      "313/313 - 2s - 7ms/step - accuracy: 0.9699 - loss: 0.1014\n",
      "Epoch 1: Train accuracy = 0.9717, Test accuracy = 0.9699\n",
      "\u001b[1m1875/1875\u001b[0m \u001b[32m━━━━━━━━━━━━━━━━━━━━\u001b[0m\u001b[37m\u001b[0m \u001b[1m17s\u001b[0m 8ms/step - accuracy: 0.9720 - loss: 0.0967\n",
      "1875/1875 - 9s - 5ms/step - accuracy: 0.9814 - loss: 0.0667\n",
      "313/313 - 2s - 6ms/step - accuracy: 0.9774 - loss: 0.0738\n",
      "Epoch 2: Train accuracy = 0.9814, Test accuracy = 0.9774\n",
      "\u001b[1m1875/1875\u001b[0m \u001b[32m━━━━━━━━━━━━━━━━━━━━\u001b[0m\u001b[37m\u001b[0m \u001b[1m17s\u001b[0m 8ms/step - accuracy: 0.9806 - loss: 0.0654\n",
      "1875/1875 - 9s - 5ms/step - accuracy: 0.9866 - loss: 0.0474\n",
      "313/313 - 2s - 7ms/step - accuracy: 0.9809 - loss: 0.0616\n",
      "Epoch 3: Train accuracy = 0.9866, Test accuracy = 0.9809\n",
      "\u001b[1m1875/1875\u001b[0m \u001b[32m━━━━━━━━━━━━━━━━━━━━\u001b[0m\u001b[37m\u001b[0m \u001b[1m16s\u001b[0m 7ms/step - accuracy: 0.9849 - loss: 0.0517\n",
      "1875/1875 - 9s - 5ms/step - accuracy: 0.9898 - loss: 0.0355\n",
      "313/313 - 2s - 6ms/step - accuracy: 0.9818 - loss: 0.0533\n",
      "Epoch 4: Train accuracy = 0.9898, Test accuracy = 0.9818\n",
      "\u001b[1m1875/1875\u001b[0m \u001b[32m━━━━━━━━━━━━━━━━━━━━\u001b[0m\u001b[37m\u001b[0m \u001b[1m17s\u001b[0m 8ms/step - accuracy: 0.9874 - loss: 0.0434\n",
      "1875/1875 - 9s - 5ms/step - accuracy: 0.9897 - loss: 0.0347\n",
      "313/313 - 2s - 6ms/step - accuracy: 0.9812 - loss: 0.0555\n",
      "Epoch 5: Train accuracy = 0.9897, Test accuracy = 0.9812\n"
     ]
    }
   ],
   "source": [
    "#Training Loop:\n",
    "    \n",
    "epochs = 5\n",
    "for epoch in range(epochs):\n",
    "    train_acc = train(model, x_train, y_train, rank, size)\n",
    "    test_loss, test_acc = model.evaluate(x_test, y_test, verbose=2)\n",
    "    test_acc = comm.allreduce(test_acc, op=MPI.SUM)\n",
    "    \n",
    "    if rank == 0:\n",
    "        print(f\"Epoch {epoch + 1}: Train accuracy = {train_acc:.4f}, Test accuracy = {test_acc / size:.4f}\")\n"
   ]
  },
  {
   "cell_type": "code",
   "execution_count": null,
   "id": "fffdd07a",
   "metadata": {},
   "outputs": [],
   "source": []
  }
 ],
 "metadata": {
  "kernelspec": {
   "display_name": "Python 3 (ipykernel)",
   "language": "python",
   "name": "python3"
  },
  "language_info": {
   "codemirror_mode": {
    "name": "ipython",
    "version": 3
   },
   "file_extension": ".py",
   "mimetype": "text/x-python",
   "name": "python",
   "nbconvert_exporter": "python",
   "pygments_lexer": "ipython3",
   "version": "3.10.9"
  }
 },
 "nbformat": 4,
 "nbformat_minor": 5
}
