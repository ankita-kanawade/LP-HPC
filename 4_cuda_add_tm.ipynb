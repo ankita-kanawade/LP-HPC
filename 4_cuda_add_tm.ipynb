{
 "cells": [
  {
   "cell_type": "code",
   "execution_count": 6,
   "metadata": {
    "colab": {
     "base_uri": "https://localhost:8080/"
    },
    "id": "JxlgE8bFOZ3h",
    "outputId": "8d346e46-a1b8-4a75-ae3d-083efc5d18e1"
   },
   "outputs": [
    {
     "name": "stderr",
     "output_type": "stream",
     "text": [
      "'apt-get' is not recognized as an internal or external command,\n",
      "operable program or batch file.\n"
     ]
    }
   ],
   "source": [
    "!apt-get install nvidia-cuda-toolkit"
   ]
  },
  {
   "cell_type": "code",
   "execution_count": 7,
   "metadata": {},
   "outputs": [
    {
     "name": "stderr",
     "output_type": "stream",
     "text": [
      "WARNING: Ignoring invalid distribution -yarrow (c:\\users\\tanvi\\anaconda3\\lib\\site-packages)\n",
      "ERROR: Could not find a version that satisfies the requirement nvidia-cuda-toolkit (from versions: none)\n",
      "ERROR: No matching distribution found for nvidia-cuda-toolkit\n"
     ]
    }
   ],
   "source": [
    "!pip install nvidia-cuda-toolkit"
   ]
  },
  {
   "cell_type": "code",
   "execution_count": 2,
   "metadata": {
    "colab": {
     "base_uri": "https://localhost:8080/"
    },
    "id": "08tnAegHO6Ks",
    "outputId": "695dc4e0-02bd-4481-800d-a2186d88d019"
   },
   "outputs": [
    {
     "name": "stderr",
     "output_type": "stream",
     "text": [
      "'nvidia-smi' is not recognized as an internal or external command,\n",
      "operable program or batch file.\n"
     ]
    }
   ],
   "source": [
    "!nvidia-smi"
   ]
  },
  {
   "cell_type": "code",
   "execution_count": 3,
   "metadata": {
    "colab": {
     "base_uri": "https://localhost:8080/"
    },
    "id": "Uuc3o8J-O79O",
    "outputId": "31741c80-776b-4307-be1e-e302d73100d4"
   },
   "outputs": [
    {
     "name": "stdout",
     "output_type": "stream",
     "text": [
      "Writing vector.cu\n"
     ]
    }
   ],
   "source": [
    "%%writefile vector.cu\n",
    "#include <iostream>\n",
    "#include <cstdlib> // Include for rand()\n",
    "#include <cuda_runtime.h>\n",
    "using namespace std;\n",
    "\n",
    "__global__ void add(int* A, int* B, int* C, int size){\n",
    "  int tid=blockIdx.x * blockDim.x + threadIdx.x;\n",
    "  if(tid<size){\n",
    "    C[tid]=A[tid]+B[tid];\n",
    "  }\n",
    "}\n",
    "\n",
    "void initialize(int* vector,int size){\n",
    "  for(int i=0;i<size;i++){\n",
    "    vector[i]=rand()% 10;\n",
    "  }\n",
    "}\n",
    "void print(int* vector,int size){\n",
    "  for(int i=0;i<size;i++){\n",
    "    cout<<vector[i]<<\" \";\n",
    "  }\n",
    "  cout<<endl;\n",
    "}\n",
    "int main(){\n",
    "  int N=7;\n",
    "  int* A,* B,* C;\n",
    "  int vectorSize=N;\n",
    "  size_t vectorBytes= vectorSize *sizeof(int);\n",
    "  A= new int[vectorSize];\n",
    "  B=new int[vectorSize];\n",
    "  C=new int[vectorSize];\n",
    "\n",
    "  initialize(A,vectorSize);\n",
    "  initialize(B,vectorSize);\n",
    "\n",
    "  cout<<\"vector A:\"<<endl;\n",
    "  print(A,N);\n",
    "  cout<<\"vector B:\"<<endl;\n",
    "  print(B,N);\n",
    "\n",
    "  int* X,* Y,* Z;\n",
    "  cudaMalloc(&X, vectorBytes);\n",
    "  cudaMalloc(&Y,vectorBytes);\n",
    "  cudaMalloc(&Z, vectorBytes);\n",
    "\n",
    "  cudaMemcpy(X,A,vectorBytes,cudaMemcpyHostToDevice);\n",
    "  cudaMemcpy(Y,B,vectorBytes,cudaMemcpyHostToDevice);\n",
    "\n",
    "  int threadsPerBlock=256;\n",
    "  int blocksPerGrid=(N+threadsPerBlock-1)/threadsPerBlock;\n",
    "\n",
    "  add<<<blocksPerGrid,threadsPerBlock>>>(X,Y,Z,N);\n",
    "\n",
    "  cudaMemcpy(C,Z, vectorBytes, cudaMemcpyDeviceToHost);\n",
    "  cout<<\"Addition: \";\n",
    "  print(C,N);\n",
    "\n",
    "  delete[] A;\n",
    "  delete[] B;\n",
    "  delete[] C;\n",
    "\n",
    "  cudaFree(X);\n",
    "  cudaFree(Y);\n",
    "  cudaFree(Z);\n",
    "\n",
    "  return 0;\n",
    "\n",
    "}"
   ]
  },
  {
   "cell_type": "code",
   "execution_count": 4,
   "metadata": {
    "id": "ex-QqkJJPFG7"
   },
   "outputs": [
    {
     "name": "stderr",
     "output_type": "stream",
     "text": [
      "'nvcc' is not recognized as an internal or external command,\n",
      "operable program or batch file.\n"
     ]
    }
   ],
   "source": [
    "!nvcc -o vector vector.cu"
   ]
  },
  {
   "cell_type": "code",
   "execution_count": 5,
   "metadata": {
    "colab": {
     "base_uri": "https://localhost:8080/"
    },
    "id": "Zszod1jtQLOW",
    "outputId": "1a61524d-d17f-40ad-e207-7f9acdd40552"
   },
   "outputs": [
    {
     "name": "stderr",
     "output_type": "stream",
     "text": [
      "'.' is not recognized as an internal or external command,\n",
      "operable program or batch file.\n"
     ]
    }
   ],
   "source": [
    "!./vector"
   ]
  },
  {
   "cell_type": "code",
   "execution_count": null,
   "metadata": {},
   "outputs": [],
   "source": []
  }
 ],
 "metadata": {
  "accelerator": "GPU",
  "colab": {
   "gpuType": "T4",
   "provenance": []
  },
  "kernelspec": {
   "display_name": "Python 3 (ipykernel)",
   "language": "python",
   "name": "python3"
  },
  "language_info": {
   "codemirror_mode": {
    "name": "ipython",
    "version": 3
   },
   "file_extension": ".py",
   "mimetype": "text/x-python",
   "name": "python",
   "nbconvert_exporter": "python",
   "pygments_lexer": "ipython3",
   "version": "3.9.7"
  }
 },
 "nbformat": 4,
 "nbformat_minor": 1
}
